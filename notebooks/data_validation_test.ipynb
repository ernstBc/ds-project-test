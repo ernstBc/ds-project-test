{
 "cells": [
  {
   "cell_type": "code",
   "execution_count": 1,
   "id": "ba275ae0",
   "metadata": {},
   "outputs": [
    {
     "name": "stdout",
     "output_type": "stream",
     "text": [
      "c:\\Users\\ernes\\Documents\\ML Projects\\ds-project-test\\ds-project-test\n"
     ]
    }
   ],
   "source": [
    "%cd ..\n"
   ]
  },
  {
   "cell_type": "code",
   "execution_count": 2,
   "id": "01037961",
   "metadata": {},
   "outputs": [
    {
     "data": {
      "application/vnd.microsoft.datawrangler.viewer.v0+json": {
       "columns": [
        {
         "name": "index",
         "rawType": "int64",
         "type": "integer"
        },
        {
         "name": "PassengerId",
         "rawType": "int64",
         "type": "integer"
        },
        {
         "name": "Survived",
         "rawType": "int64",
         "type": "integer"
        },
        {
         "name": "Pclass",
         "rawType": "int64",
         "type": "integer"
        },
        {
         "name": "Name",
         "rawType": "object",
         "type": "string"
        },
        {
         "name": "Sex",
         "rawType": "object",
         "type": "string"
        },
        {
         "name": "Age",
         "rawType": "float64",
         "type": "float"
        },
        {
         "name": "SibSp",
         "rawType": "int64",
         "type": "integer"
        },
        {
         "name": "Parch",
         "rawType": "int64",
         "type": "integer"
        },
        {
         "name": "Ticket",
         "rawType": "object",
         "type": "string"
        },
        {
         "name": "Fare",
         "rawType": "float64",
         "type": "float"
        },
        {
         "name": "Cabin",
         "rawType": "object",
         "type": "unknown"
        },
        {
         "name": "Embarked",
         "rawType": "object",
         "type": "string"
        }
       ],
       "conversionMethod": "pd.DataFrame",
       "ref": "4d7e5f5e-8e63-4ba1-a33c-a4bc737948db",
       "rows": [
        [
         "0",
         "1",
         "0",
         "3",
         "Braund, Mr. Owen Harris",
         "male",
         "22.0",
         "1",
         "0",
         "A/5 21171",
         "7.25",
         null,
         "S"
        ],
        [
         "1",
         "2",
         "1",
         "1",
         "Cumings, Mrs. John Bradley (Florence Briggs Thayer)",
         "female",
         "38.0",
         "1",
         "0",
         "PC 17599",
         "71.2833",
         "C85",
         "C"
        ],
        [
         "2",
         "3",
         "1",
         "3",
         "Heikkinen, Miss. Laina",
         "female",
         "26.0",
         "0",
         "0",
         "STON/O2. 3101282",
         "7.925",
         null,
         "S"
        ],
        [
         "3",
         "4",
         "1",
         "1",
         "Futrelle, Mrs. Jacques Heath (Lily May Peel)",
         "female",
         "35.0",
         "1",
         "0",
         "113803",
         "53.1",
         "C123",
         "S"
        ],
        [
         "4",
         "5",
         "0",
         "3",
         "Allen, Mr. William Henry",
         "male",
         "35.0",
         "0",
         "0",
         "373450",
         "8.05",
         null,
         "S"
        ]
       ],
       "shape": {
        "columns": 12,
        "rows": 5
       }
      },
      "text/html": [
       "<div>\n",
       "<style scoped>\n",
       "    .dataframe tbody tr th:only-of-type {\n",
       "        vertical-align: middle;\n",
       "    }\n",
       "\n",
       "    .dataframe tbody tr th {\n",
       "        vertical-align: top;\n",
       "    }\n",
       "\n",
       "    .dataframe thead th {\n",
       "        text-align: right;\n",
       "    }\n",
       "</style>\n",
       "<table border=\"1\" class=\"dataframe\">\n",
       "  <thead>\n",
       "    <tr style=\"text-align: right;\">\n",
       "      <th></th>\n",
       "      <th>PassengerId</th>\n",
       "      <th>Survived</th>\n",
       "      <th>Pclass</th>\n",
       "      <th>Name</th>\n",
       "      <th>Sex</th>\n",
       "      <th>Age</th>\n",
       "      <th>SibSp</th>\n",
       "      <th>Parch</th>\n",
       "      <th>Ticket</th>\n",
       "      <th>Fare</th>\n",
       "      <th>Cabin</th>\n",
       "      <th>Embarked</th>\n",
       "    </tr>\n",
       "  </thead>\n",
       "  <tbody>\n",
       "    <tr>\n",
       "      <th>0</th>\n",
       "      <td>1</td>\n",
       "      <td>0</td>\n",
       "      <td>3</td>\n",
       "      <td>Braund, Mr. Owen Harris</td>\n",
       "      <td>male</td>\n",
       "      <td>22.0</td>\n",
       "      <td>1</td>\n",
       "      <td>0</td>\n",
       "      <td>A/5 21171</td>\n",
       "      <td>7.2500</td>\n",
       "      <td>NaN</td>\n",
       "      <td>S</td>\n",
       "    </tr>\n",
       "    <tr>\n",
       "      <th>1</th>\n",
       "      <td>2</td>\n",
       "      <td>1</td>\n",
       "      <td>1</td>\n",
       "      <td>Cumings, Mrs. John Bradley (Florence Briggs Th...</td>\n",
       "      <td>female</td>\n",
       "      <td>38.0</td>\n",
       "      <td>1</td>\n",
       "      <td>0</td>\n",
       "      <td>PC 17599</td>\n",
       "      <td>71.2833</td>\n",
       "      <td>C85</td>\n",
       "      <td>C</td>\n",
       "    </tr>\n",
       "    <tr>\n",
       "      <th>2</th>\n",
       "      <td>3</td>\n",
       "      <td>1</td>\n",
       "      <td>3</td>\n",
       "      <td>Heikkinen, Miss. Laina</td>\n",
       "      <td>female</td>\n",
       "      <td>26.0</td>\n",
       "      <td>0</td>\n",
       "      <td>0</td>\n",
       "      <td>STON/O2. 3101282</td>\n",
       "      <td>7.9250</td>\n",
       "      <td>NaN</td>\n",
       "      <td>S</td>\n",
       "    </tr>\n",
       "    <tr>\n",
       "      <th>3</th>\n",
       "      <td>4</td>\n",
       "      <td>1</td>\n",
       "      <td>1</td>\n",
       "      <td>Futrelle, Mrs. Jacques Heath (Lily May Peel)</td>\n",
       "      <td>female</td>\n",
       "      <td>35.0</td>\n",
       "      <td>1</td>\n",
       "      <td>0</td>\n",
       "      <td>113803</td>\n",
       "      <td>53.1000</td>\n",
       "      <td>C123</td>\n",
       "      <td>S</td>\n",
       "    </tr>\n",
       "    <tr>\n",
       "      <th>4</th>\n",
       "      <td>5</td>\n",
       "      <td>0</td>\n",
       "      <td>3</td>\n",
       "      <td>Allen, Mr. William Henry</td>\n",
       "      <td>male</td>\n",
       "      <td>35.0</td>\n",
       "      <td>0</td>\n",
       "      <td>0</td>\n",
       "      <td>373450</td>\n",
       "      <td>8.0500</td>\n",
       "      <td>NaN</td>\n",
       "      <td>S</td>\n",
       "    </tr>\n",
       "  </tbody>\n",
       "</table>\n",
       "</div>"
      ],
      "text/plain": [
       "   PassengerId  Survived  Pclass  \\\n",
       "0            1         0       3   \n",
       "1            2         1       1   \n",
       "2            3         1       3   \n",
       "3            4         1       1   \n",
       "4            5         0       3   \n",
       "\n",
       "                                                Name     Sex   Age  SibSp  \\\n",
       "0                            Braund, Mr. Owen Harris    male  22.0      1   \n",
       "1  Cumings, Mrs. John Bradley (Florence Briggs Th...  female  38.0      1   \n",
       "2                             Heikkinen, Miss. Laina  female  26.0      0   \n",
       "3       Futrelle, Mrs. Jacques Heath (Lily May Peel)  female  35.0      1   \n",
       "4                           Allen, Mr. William Henry    male  35.0      0   \n",
       "\n",
       "   Parch            Ticket     Fare Cabin Embarked  \n",
       "0      0         A/5 21171   7.2500   NaN        S  \n",
       "1      0          PC 17599  71.2833   C85        C  \n",
       "2      0  STON/O2. 3101282   7.9250   NaN        S  \n",
       "3      0            113803  53.1000  C123        S  \n",
       "4      0            373450   8.0500   NaN        S  "
      ]
     },
     "execution_count": 2,
     "metadata": {},
     "output_type": "execute_result"
    }
   ],
   "source": [
    "import pandas as pd\n",
    "\n",
    "data=pd.read_csv('artifact/data_ingestion/raw_data/Titanic.csv')\n",
    "data.head()"
   ]
  },
  {
   "cell_type": "code",
   "execution_count": 3,
   "id": "cf7ddb5e",
   "metadata": {},
   "outputs": [],
   "source": [
    "from dataclasses import dataclass\n",
    "from typing import Dict\n",
    "from pathlib import Path\n",
    "\n",
    "@dataclass\n",
    "class DataValidationConfig:\n",
    "    \"\"\"\n",
    "    Data Validation Configuration\n",
    "    \"\"\"\n",
    "    validation_directory: Path\n",
    "    data_path: Path\n",
    "    STATUS_FILE: str\n",
    "    schema_file: Dict"
   ]
  },
  {
   "cell_type": "code",
   "execution_count": 4,
   "id": "33008786",
   "metadata": {},
   "outputs": [
    {
     "name": "stdout",
     "output_type": "stream",
     "text": [
      "2025-05-02 17:42:50 - INFO: __init__ - Logging setup complete.\n"
     ]
    }
   ],
   "source": [
    "from src.ds_project.constants import CONFIG_FILE_PATH, SCHEMA_FILE_PATH\n",
    "from src.ds_project.utils.utils import read_yaml, create_directories\n",
    "\n",
    "class ValidationConfigurationManager:\n",
    "    def __init__(self,\n",
    "                 config_filepath = CONFIG_FILE_PATH,\n",
    "                 schema_filepath = SCHEMA_FILE_PATH,\n",
    "                 ):\n",
    "        self.config = read_yaml(config_filepath)\n",
    "        self.schema = read_yaml(schema_filepath)\n",
    "    \n",
    "    def get_data_validation_config(self) -> DataValidationConfig:\n",
    "        \"\"\"\n",
    "        Get Data Validation Configuration\n",
    "        \"\"\"\n",
    "        \n",
    "        data_validation_config = DataValidationConfig(\n",
    "            validation_directory=self.config['data_validation']['directory'],\n",
    "            data_path=self.config['data_validation']['local_csv_file'],\n",
    "            STATUS_FILE=self.config['data_validation']['status'],\n",
    "            schema_file=self.schema\n",
    "        )\n",
    "        \n",
    "\n",
    "        return data_validation_config"
   ]
  },
  {
   "cell_type": "code",
   "execution_count": 5,
   "id": "2e7d99d4",
   "metadata": {},
   "outputs": [
    {
     "data": {
      "text/plain": [
       "PassengerId      0\n",
       "Survived         0\n",
       "Pclass           0\n",
       "Name             0\n",
       "Sex              0\n",
       "Age            177\n",
       "SibSp            0\n",
       "Parch            0\n",
       "Ticket           0\n",
       "Fare             0\n",
       "Cabin          687\n",
       "Embarked         2\n",
       "dtype: int64"
      ]
     },
     "execution_count": 5,
     "metadata": {},
     "output_type": "execute_result"
    }
   ],
   "source": [
    "data.isnull().sum()"
   ]
  },
  {
   "cell_type": "code",
   "execution_count": 6,
   "id": "66a965ca",
   "metadata": {},
   "outputs": [
    {
     "data": {
      "text/plain": [
       "(891, 12)"
      ]
     },
     "execution_count": 6,
     "metadata": {},
     "output_type": "execute_result"
    }
   ],
   "source": [
    "data.shape"
   ]
  },
  {
   "cell_type": "markdown",
   "id": "5462ec91",
   "metadata": {},
   "source": [
    "# data validation"
   ]
  },
  {
   "cell_type": "code",
   "execution_count": 30,
   "id": "f8fbcef0",
   "metadata": {},
   "outputs": [],
   "source": [
    "import os\n",
    "from src.ds_project import logger\n",
    "from src.ds_project.utils.utils import read_yaml\n",
    "import datetime"
   ]
  },
  {
   "cell_type": "code",
   "execution_count": 49,
   "id": "df31e8ca",
   "metadata": {},
   "outputs": [],
   "source": [
    "class DataValidation:\n",
    "    def __init__(self, config: DataValidationConfig):\n",
    "        self.config = config\n",
    "    \n",
    "    def validate_data_schema(self) -> bool: \n",
    "        \"\"\"\n",
    "        Validate the data against the schema\n",
    "        \"\"\"\n",
    "        status=True\n",
    "        try:\n",
    "            if not os.path.exists(self.config.validation_directory):\n",
    "                create_directories([self.config.validation_directory])\n",
    "            if not os.path.exists(self.config.STATUS_FILE):\n",
    "                with open(self.config.STATUS_FILE, 'a') as f:\n",
    "                    f.write(\"Data Schema Validation Status\\n\")\n",
    "                    f.write(\"====================================\\n\")\n",
    "                \n",
    "            schema = [col for col in self.config.schema_file['COLUMNS'].keys()] + [target for target in self.config.schema_file['TARGET'].keys()]\n",
    "            data=pd.read_csv(self.config.data_path)\n",
    "            data_columns = data.columns.tolist()\n",
    "\n",
    "            date = datetime.datetime.now().strftime(\"%Y-%m-%d %H:%M:%S\")\n",
    "            with open(self.config.STATUS_FILE, 'a') as f:\n",
    "                f.write(f\"\\n{date}\\n\")\n",
    "\n",
    "            \n",
    "            validation_error=False\n",
    "            for column in schema:\n",
    "\n",
    "\n",
    "                status = True\n",
    "                if column not in data_columns:\n",
    "                    status = False\n",
    "                    validation_error=True\n",
    "                    with open(self.config.STATUS_FILE, 'a') as f:\n",
    "                        f.write(f\"Column {column} - Status {status}:  {column} is not in the dataset\\n\")\n",
    "                    continue\n",
    "\n",
    "                schema_dtype = self.config.schema_file['COLUMNS'][column]['type'] if column in self.config.schema_file['COLUMNS'] else self.config.schema_file['TARGET'][column]['type']\n",
    "                data_dtype = data[column].dtype\n",
    "                if (schema_dtype == 'string'):\n",
    "                    if (data_dtype != 'object'):\n",
    "                        status = False\n",
    "                        validation_error=True\n",
    "                        with open(self.config.STATUS_FILE, 'a') as f:\n",
    "                            f.write(f\"Column {column} - Status {status}: {column} dtype in the schema ({schema_dtype}) is not matching to dtype in the dataset ({data_dtype})\\n\")\n",
    "                elif schema_dtype != data_dtype:\n",
    "                    status = False\n",
    "                    validation_error=True\n",
    "                    with open(self.config.STATUS_FILE, 'a') as f:\n",
    "                        f.write(f\"Column {column} - Status {status}: {column} dtype in the schema ({schema_dtype}) is not matching to dtype in the dataset ({data_dtype})\\n\")\n",
    "                else:\n",
    "                    status = True\n",
    "                    validation_error=False\n",
    "                    with open(self.config.STATUS_FILE, 'a') as f:\n",
    "                        f.write(f\"Column {column} - Status {status}: is matching the schema\\n\")\n",
    "\n",
    "            return validation_error\n",
    "            \n",
    "        except Exception as e:\n",
    "            raise e\n",
    "                    "
   ]
  },
  {
   "cell_type": "code",
   "execution_count": 50,
   "id": "32176f94",
   "metadata": {},
   "outputs": [
    {
     "name": "stdout",
     "output_type": "stream",
     "text": [
      "2025-05-02 18:01:11 - INFO: utils - YAML file config\\config.yaml loaded successfully.\n",
      "2025-05-02 18:01:11 - INFO: utils - YAML file schema.yaml loaded successfully.\n"
     ]
    },
    {
     "data": {
      "text/plain": [
       "False"
      ]
     },
     "execution_count": 50,
     "metadata": {},
     "output_type": "execute_result"
    }
   ],
   "source": [
    "manager=ValidationConfigurationManager()\n",
    "data_validation_config = manager.get_data_validation_config()\n",
    "validator = DataValidation(config=data_validation_config)\n",
    "\n",
    "validation = validator.validate_data_schema()\n",
    "validation\n"
   ]
  },
  {
   "cell_type": "code",
   "execution_count": 33,
   "id": "096330ac",
   "metadata": {},
   "outputs": [
    {
     "name": "stdout",
     "output_type": "stream",
     "text": [
      "2025-05-02 17:52:35 - INFO: utils - YAML file schema.yaml loaded successfully.\n"
     ]
    },
    {
     "data": {
      "text/plain": [
       "dict_keys(['COLUMNS', 'TARGET'])"
      ]
     },
     "execution_count": 33,
     "metadata": {},
     "output_type": "execute_result"
    }
   ],
   "source": [
    "schema_test=read_yaml(Path('schema.yaml'))\n",
    "schema_test.keys()"
   ]
  },
  {
   "cell_type": "code",
   "execution_count": null,
   "id": "98447997",
   "metadata": {},
   "outputs": [
    {
     "data": {
      "text/plain": [
       "dict_keys(['PassengerId', 'Pclass', 'Name', 'Sex', 'Age', 'SibSp', 'Parch', 'Ticket', 'Fare', 'Cabin', 'Embarked'])"
      ]
     },
     "execution_count": 31,
     "metadata": {},
     "output_type": "execute_result"
    }
   ],
   "source": [
    "schema_test['COLUMNS'].keys()"
   ]
  },
  {
   "cell_type": "code",
   "execution_count": null,
   "id": "d7476655",
   "metadata": {},
   "outputs": [
    {
     "data": {
      "text/plain": [
       "ConfigBox({'PassengerId': {'type': 'int64', 'description': 'Unique identifier for each passenger.'}, 'Pclass': {'type': 'int64', 'description': 'Ticket class (1 = 1st, 2 = 2nd, 3 = 3rd).'}, 'Name': {'type': 'string', 'description': 'Name of the passenger.'}, 'Sex': {'type': 'string', 'description': 'Gender of the passenger'}, 'Age': {'type': 'float64', 'description': 'Age of the passenger in years.'}, 'SibSp': {'type': 'int64', 'description': 'Number of siblings or spouses aboard the Titanic.'}, 'Parch': {'type': 'int64', 'description': 'Number of parents or children aboard the Titanic.'}, 'Ticket': {'type': 'string', 'description': 'Ticket number.'}, 'Fare': {'type': 'float64', 'description': 'Passenger fare.'}, 'Cabin': {'type': 'string', 'description': 'Cabin number.'}, 'Embarked': {'type': 'string', 'description': 'Port of embarkation (C = Cherbourg, Q = Queenstown, S = Southampton).'}})"
      ]
     },
     "execution_count": 82,
     "metadata": {},
     "output_type": "execute_result"
    }
   ],
   "source": [
    "schema_test['COLUMNS']"
   ]
  },
  {
   "cell_type": "code",
   "execution_count": null,
   "id": "a8c5caa6",
   "metadata": {},
   "outputs": [
    {
     "data": {
      "text/plain": [
       "False"
      ]
     },
     "execution_count": 83,
     "metadata": {},
     "output_type": "execute_result"
    }
   ],
   "source": [
    "data['Name'].dtype == schema_test['COLUMNS']['Name']"
   ]
  }
 ],
 "metadata": {
  "kernelspec": {
   "display_name": "Python 3",
   "language": "python",
   "name": "python3"
  },
  "language_info": {
   "codemirror_mode": {
    "name": "ipython",
    "version": 3
   },
   "file_extension": ".py",
   "mimetype": "text/x-python",
   "name": "python",
   "nbconvert_exporter": "python",
   "pygments_lexer": "ipython3",
   "version": "3.12.9"
  }
 },
 "nbformat": 4,
 "nbformat_minor": 5
}
