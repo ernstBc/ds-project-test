{
 "cells": [
  {
   "cell_type": "code",
   "execution_count": 1,
   "id": "a9436e61",
   "metadata": {},
   "outputs": [
    {
     "name": "stdout",
     "output_type": "stream",
     "text": [
      "c:\\Users\\ernes\\Documents\\ML Projects\\ds-project-test\\ds-project-test\n"
     ]
    }
   ],
   "source": [
    "%cd .."
   ]
  },
  {
   "cell_type": "code",
   "execution_count": 2,
   "id": "0cdef4a3",
   "metadata": {},
   "outputs": [
    {
     "data": {
      "text/plain": [
       "'c:\\\\Users\\\\ernes\\\\Documents\\\\ML Projects\\\\ds-project-test\\\\ds-project-test'"
      ]
     },
     "execution_count": 2,
     "metadata": {},
     "output_type": "execute_result"
    }
   ],
   "source": [
    "%pwd"
   ]
  },
  {
   "cell_type": "code",
   "execution_count": null,
   "id": "b80bd8b4",
   "metadata": {},
   "outputs": [
    {
     "name": "stdout",
     "output_type": "stream",
     "text": [
      "2025-04-28 15:50:57 - INFO: __init__ - Logging setup complete.\n"
     ]
    }
   ],
   "source": [
    "\n",
    "from src.ds_project.constants import CONFIG_FILE_PATH, PARAMS_FILE_PATH, SCHEMA_FILE_PATH\n",
    "from src.ds_project.utils.utils import read_yaml, create_directories\n",
    "from src.ds_project import logger\n",
    "from urllib.request import urlretrieve\n",
    "import shutil"
   ]
  },
  {
   "cell_type": "code",
   "execution_count": 7,
   "id": "58d2fe9e",
   "metadata": {},
   "outputs": [
    {
     "name": "stderr",
     "output_type": "stream",
     "text": [
      "  % Total    % Received % Xferd  Average Speed   Time    Time     Time  Current\n",
      "                                 Dload  Upload   Total   Spent    Left  Speed\n",
      "\n",
      "  0     0    0     0    0     0      0      0 --:--:-- --:--:-- --:--:--     0\n",
      "  0     0    0     0    0     0      0      0 --:--:-- --:--:-- --:--:--     0\n",
      "  0     0    0     0    0     0      0      0 --:--:--  0:00:01 --:--:--     0\n",
      "  0     0    0     0    0     0      0      0 --:--:--  0:00:02 --:--:--     0\n",
      "  0     0    0     0    0     0      0      0 --:--:--  0:00:03 --:--:--     0\n",
      "  0     0    0     0    0     0      0      0 --:--:--  0:00:04 --:--:--     0\n",
      "  0     0    0     0    0     0      0      0 --:--:--  0:00:05 --:--:--     0\n",
      "  0     0    0     0    0     0      0      0 --:--:--  0:00:06 --:--:--     0\n",
      "  0     0    0     0    0     0      0      0 --:--:--  0:00:07 --:--:--     0\n",
      "  0     0    0     0    0     0      0      0 --:--:--  0:00:08 --:--:--     0curl: (6) Could not resolve host: www3.dsi.uminho.pt\n"
     ]
    }
   ],
   "source": [
    "# download a file from a url using curl\n",
    "!curl -O http://www3.dsi.uminho.pt/pcortez/wine/winequality.zip"
   ]
  },
  {
   "cell_type": "code",
   "execution_count": null,
   "id": "006c13a2",
   "metadata": {},
   "outputs": [],
   "source": [
    "from dataclasses import dataclass\n",
    "from pathlib import Path\n",
    "\n",
    "@dataclass\n",
    "class DataIngestionConfig:\n",
    "    directory_path: Path\n",
    "    source_url: str\n",
    "    local_data_file: Path\n",
    "    raw_data_path: Path\n",
    "    train_data_path: Path\n",
    "    test_data_path: Path"
   ]
  },
  {
   "cell_type": "code",
   "execution_count": null,
   "id": "adc90782",
   "metadata": {},
   "outputs": [],
   "source": [
    "class ConfigurationManager:\n",
    "    def __init__(self, \n",
    "                 config_path=CONFIG_FILE_PATH, \n",
    "                 params_path = PARAMS_FILE_PATH, \n",
    "                 schema_path = SCHEMA_FILE_PATH):\n",
    "        self.config = read_yaml(config_path)\n",
    "        self.params = read_yaml(params_path)\n",
    "        self.schema = read_yaml(schema_path)\n",
    "        print(self.config)\n",
    "        print(self.config['artifacts_dir'])\n",
    "        \n",
    "        # Create artifact directories if they don't exist\n",
    "        if not Path(self.config['artifacts_dir']).exists():\n",
    "            create_directories([self.config['artifacts_dir']])\n",
    "            logger.info(f\"Created artifacts directory at {self.config['artifacts_dir']}\")\n",
    "        else:\n",
    "            logger.info(f\"Artifacts directory already exists at {self.config['artifacts_dir']}\")\n",
    "\n",
    "\n",
    "    def get_data_ingestion_config(self) -> DataIngestionConfig:\n",
    "        config= self.config['data_ingestion']\n",
    "        create_directories([config['directory'], config['raw_data_path'], config['train_data_path'], config['test_data_path']], True)\n",
    "\n",
    "\n",
    "        data_ingestion_config = DataIngestionConfig(\n",
    "            directory_path= Path(config['directory']),\n",
    "            source_url= config['source_url'],\n",
    "            local_data_file= Path(config['local_data_file']),\n",
    "            raw_data_path= Path(config['raw_data_path']),\n",
    "            train_data_path= Path(config['train_data_path']),\n",
    "            test_data_path= Path(config['test_data_path'])\n",
    "        )\n",
    "        return data_ingestion_config\n",
    "    \n"
   ]
  },
  {
   "cell_type": "code",
   "execution_count": 28,
   "id": "d3577c54",
   "metadata": {},
   "outputs": [],
   "source": [
    "import requests\n",
    "import zipfile\n",
    "import os\n",
    "from src.ds_project import logger"
   ]
  },
  {
   "cell_type": "code",
   "execution_count": 66,
   "id": "1314f18b",
   "metadata": {},
   "outputs": [],
   "source": [
    "class DataIngestion:\n",
    "    def __init__(self, config: DataIngestionConfig):\n",
    "        self.config = config\n",
    "\n",
    "\n",
    "    def download_data(self):\n",
    "        if not os.path.exists(self.config.local_data_file):\n",
    "            logger.info(f\"Downloading data from {self.config.source_url} to {self.config.local_data_file}\")\n",
    "            filename, headers = urlretrieve(url=self.config.source_url, \n",
    "                                            filename=self.config.local_data_file)\n",
    "            logger.info(f\"Data downloaded to {self.config.local_data_file}\")\n",
    "        else:\n",
    "            logger.info(f\"Data already exists at {self.config.local_data_file}. Skipping download.\")\n",
    "    \n",
    "\n",
    "    def extract_data(self):\n",
    "        with zipfile.ZipFile(self.config.raw_data_file, 'r') as zip_ref:\n",
    "            zip_ref.extractall(self.config.raw_data_path)\n",
    "        print(f\"Data extracted to {self.config.raw_data_path}\")\n",
    "\n",
    "    def setup_data(self):\n",
    "        # move the data to the raw data path\n",
    "        if not self.config.local_data_file in os.listdir(self.config.raw_data_path):\n",
    "            shutil.move(self.config.local_data_file, self.config.raw_data_path)\n",
    "            logger.info(f'Data moved to {self.config.raw_data_path}')"
   ]
  },
  {
   "cell_type": "code",
   "execution_count": 67,
   "id": "1f645a6f",
   "metadata": {},
   "outputs": [
    {
     "name": "stdout",
     "output_type": "stream",
     "text": [
      "2025-04-28 18:51:58 - INFO: utils - YAML file config\\config.yaml loaded successfully.\n",
      "2025-04-28 18:51:58 - INFO: utils - YAML file parameters.yaml loaded successfully.\n",
      "2025-04-28 18:51:58 - INFO: utils - YAML file schema.yaml loaded successfully.\n",
      "{'artifacts_dir': 'artifact/', 'data_ingestion': {'directory': 'artifact/data_ingestion', 'source_url': 'https://github.com/MainakRepositor/Datasets/blob/master/Titanic.csv', 'local_data_file': 'artifact/data_ingestion/Titanic.csv', 'unzip_dir': 'artifact/data_ingestion', 'raw_data_path': 'artifact/data_ingestion/raw_data', 'train_data_path': 'artifact/data_ingestion/train_data', 'test_data_path': 'artifact/data_ingestion/test_data'}}\n",
      "artifact/\n",
      "2025-04-28 18:51:58 - INFO: 1679058489 - Artifacts directory already exists at artifact/\n",
      "2025-04-28 18:51:58 - INFO: utils - Directory artifact/data_ingestion created.\n",
      "2025-04-28 18:51:58 - INFO: utils - Directory artifact/data_ingestion/raw_data created.\n",
      "2025-04-28 18:51:58 - INFO: utils - Directory artifact/data_ingestion/train_data created.\n",
      "2025-04-28 18:51:58 - INFO: utils - Directory artifact/data_ingestion/test_data created.\n",
      "2025-04-28 18:51:58 - INFO: 2716331685 - Downloading data from https://github.com/MainakRepositor/Datasets/blob/master/Titanic.csv to artifact\\data_ingestion\\Titanic.csv\n",
      "2025-04-28 18:52:13 - INFO: 2716331685 - Data downloaded to artifact\\data_ingestion\\Titanic.csv\n",
      "2025-04-28 18:52:13 - INFO: 2716331685 - Data moved to artifact\\data_ingestion\\raw_data\n"
     ]
    }
   ],
   "source": [
    "manager = ConfigurationManager()\n",
    "data_ingestion_config = manager.get_data_ingestion_config()\n",
    "data_ingestion = DataIngestion(config=data_ingestion_config)\n",
    "data_ingestion.download_data()\n",
    "data_ingestion.setup_data()"
   ]
  },
  {
   "cell_type": "code",
   "execution_count": null,
   "id": "87f420f6",
   "metadata": {},
   "outputs": [],
   "source": []
  }
 ],
 "metadata": {
  "kernelspec": {
   "display_name": "venv",
   "language": "python",
   "name": "python3"
  },
  "language_info": {
   "codemirror_mode": {
    "name": "ipython",
    "version": 3
   },
   "file_extension": ".py",
   "mimetype": "text/x-python",
   "name": "python",
   "nbconvert_exporter": "python",
   "pygments_lexer": "ipython3",
   "version": "3.12.9"
  }
 },
 "nbformat": 4,
 "nbformat_minor": 5
}
