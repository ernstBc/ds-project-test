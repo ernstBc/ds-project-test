{
 "cells": [
  {
   "cell_type": "code",
   "execution_count": 1,
   "id": "a9436e61",
   "metadata": {},
   "outputs": [
    {
     "name": "stdout",
     "output_type": "stream",
     "text": [
      "c:\\Users\\ernes\\Documents\\ML Projects\\ds-project-test\\ds-project-test\n"
     ]
    }
   ],
   "source": [
    "%cd .."
   ]
  },
  {
   "cell_type": "code",
   "execution_count": 2,
   "id": "0cdef4a3",
   "metadata": {},
   "outputs": [
    {
     "data": {
      "text/plain": [
       "'c:\\\\Users\\\\ernes\\\\Documents\\\\ML Projects\\\\ds-project-test\\\\ds-project-test'"
      ]
     },
     "execution_count": 2,
     "metadata": {},
     "output_type": "execute_result"
    }
   ],
   "source": [
    "%pwd"
   ]
  },
  {
   "cell_type": "code",
   "execution_count": 3,
   "id": "b80bd8b4",
   "metadata": {},
   "outputs": [
    {
     "name": "stdout",
     "output_type": "stream",
     "text": [
      "2025-04-28 15:50:57 - INFO: __init__ - Logging setup complete.\n"
     ]
    }
   ],
   "source": [
    "\n",
    "from src.ds_project.constants import CONFIG_FILE_PATH, PARAMS_FILE_PATH, SCHEMA_FILE_PATH\n",
    "from src.ds_project.utils.utils import read_yaml, create_directories\n",
    "from src.ds_project import logger\n",
    "from urllib.request import urlretrieve\n",
    "import shutil"
   ]
  },
  {
   "cell_type": "code",
   "execution_count": 7,
   "id": "58d2fe9e",
   "metadata": {},
   "outputs": [
    {
     "name": "stderr",
     "output_type": "stream",
     "text": [
      "  % Total    % Received % Xferd  Average Speed   Time    Time     Time  Current\n",
      "                                 Dload  Upload   Total   Spent    Left  Speed\n",
      "\n",
      "  0     0    0     0    0     0      0      0 --:--:-- --:--:-- --:--:--     0\n",
      "  0     0    0     0    0     0      0      0 --:--:-- --:--:-- --:--:--     0\n",
      "  0     0    0     0    0     0      0      0 --:--:--  0:00:01 --:--:--     0\n",
      "  0     0    0     0    0     0      0      0 --:--:--  0:00:02 --:--:--     0\n",
      "  0     0    0     0    0     0      0      0 --:--:--  0:00:03 --:--:--     0\n",
      "  0     0    0     0    0     0      0      0 --:--:--  0:00:04 --:--:--     0\n",
      "  0     0    0     0    0     0      0      0 --:--:--  0:00:05 --:--:--     0\n",
      "  0     0    0     0    0     0      0      0 --:--:--  0:00:06 --:--:--     0\n",
      "  0     0    0     0    0     0      0      0 --:--:--  0:00:07 --:--:--     0\n",
      "  0     0    0     0    0     0      0      0 --:--:--  0:00:08 --:--:--     0curl: (6) Could not resolve host: www3.dsi.uminho.pt\n"
     ]
    }
   ],
   "source": [
    "# download a file from a url using curl\n",
    "!curl -O http://www3.dsi.uminho.pt/pcortez/wine/winequality.zip"
   ]
  },
  {
   "cell_type": "code",
   "execution_count": null,
   "id": "006c13a2",
   "metadata": {},
   "outputs": [],
   "source": [
    "from dataclasses import dataclass\n",
    "from pathlib import Path\n",
    "\n",
    "@dataclass\n",
    "class DataIngestionConfig:\n",
    "    directory_path: Path\n",
    "    source_url: str\n",
    "    local_data_file: Path\n",
    "    raw_data_path: Path\n",
    "    train_data_path: Path\n",
    "    test_data_path: Path"
   ]
  },
  {
   "cell_type": "code",
   "execution_count": null,
   "id": "adc90782",
   "metadata": {},
   "outputs": [],
   "source": [
    "class ConfigurationManager:\n",
    "    def __init__(self, \n",
    "                 config_path=CONFIG_FILE_PATH, \n",
    "                 params_path = PARAMS_FILE_PATH, \n",
    "                 schema_path = SCHEMA_FILE_PATH):\n",
    "        self.config = read_yaml(config_path)\n",
    "        self.params = read_yaml(params_path)\n",
    "        self.schema = read_yaml(schema_path)\n",
    "        print(self.config)\n",
    "        print(self.config['artifacts_dir'])\n",
    "        \n",
    "        # Create artifact directories if they don't exist\n",
    "        if not Path(self.config['artifacts_dir']).exists():\n",
    "            create_directories([self.config['artifacts_dir']])\n",
    "            logger.info(f\"Created artifacts directory at {self.config['artifacts_dir']}\")\n",
    "        else:\n",
    "            logger.info(f\"Artifacts directory already exists at {self.config['artifacts_dir']}\")\n",
    "\n",
    "\n",
    "    def get_data_ingestion_config(self) -> DataIngestionConfig:\n",
    "        config= self.config['data_ingestion']\n",
    "        create_directories([config['directory'], config['raw_data_path'], config['train_data_path'], config['test_data_path']], True)\n",
    "\n",
    "\n",
    "        data_ingestion_config = DataIngestionConfig(\n",
    "            directory_path= Path(config['directory']),\n",
    "            source_url= config['source_url'],\n",
    "            local_data_file= Path(config['local_data_file']),\n",
    "            raw_data_path= Path(config['raw_data_path']),\n",
    "            train_data_path= Path(config['train_data_path']),\n",
    "            test_data_path= Path(config['test_data_path'])\n",
    "        )\n",
    "        return data_ingestion_config\n",
    "    \n"
   ]
  },
  {
   "cell_type": "code",
   "execution_count": 28,
   "id": "d3577c54",
   "metadata": {},
   "outputs": [],
   "source": [
    "import requests\n",
    "import zipfile\n",
    "import os\n",
    "from src.ds_project import logger"
   ]
  },
  {
   "cell_type": "code",
   "execution_count": null,
   "id": "1314f18b",
   "metadata": {},
   "outputs": [],
   "source": [
    "class DataIngestion:\n",
    "    def __init__(self, config: DataIngestionConfig):\n",
    "        self.config = config\n",
    "\n",
    "\n",
    "    def download_data(self):\n",
    "        if not os.path.exists(self.config.local_data_file):\n",
    "            logger.info(f\"Downloading data from {self.config.source_url} to {self.config.local_data_file}\")\n",
    "            filename, headers = urlretrieve(url=self.config.source_url, \n",
    "                                            filename=self.config.local_data_file)\n",
    "            logger.info(f\"Data downloaded to {self.config.local_data_file}\")\n",
    "        else:\n",
    "            logger.info(f\"Data already exists at {self.config.local_data_file}. Skipping download.\")\n",
    "    \n",
    "\n",
    "    def extract_data(self):\n",
    "        with zipfile.ZipFile(self.config.raw_data_file, 'r') as zip_ref:\n",
    "            zip_ref.extractall(self.config.raw_data_path)\n",
    "        logger.info(f\"Data extracted to {self.config.raw_data_path}\")\n",
    "\n",
    "    def setup_data(self):\n",
    "        # move the data to the raw data path\n",
    "        if not self.config.local_data_file in os.listdir(self.config.raw_data_path):\n",
    "            shutil.move(self.config.local_data_file, self.config.raw_data_path)\n",
    "            logger.info(f'Data moved to {self.config.raw_data_path}')"
   ]
  },
  {
   "cell_type": "code",
   "execution_count": 67,
   "id": "1f645a6f",
   "metadata": {},
   "outputs": [
    {
     "name": "stdout",
     "output_type": "stream",
     "text": [
      "2025-04-28 18:51:58 - INFO: utils - YAML file config\\config.yaml loaded successfully.\n",
      "2025-04-28 18:51:58 - INFO: utils - YAML file parameters.yaml loaded successfully.\n",
      "2025-04-28 18:51:58 - INFO: utils - YAML file schema.yaml loaded successfully.\n",
      "{'artifacts_dir': 'artifact/', 'data_ingestion': {'directory': 'artifact/data_ingestion', 'source_url': 'https://github.com/MainakRepositor/Datasets/blob/master/Titanic.csv', 'local_data_file': 'artifact/data_ingestion/Titanic.csv', 'unzip_dir': 'artifact/data_ingestion', 'raw_data_path': 'artifact/data_ingestion/raw_data', 'train_data_path': 'artifact/data_ingestion/train_data', 'test_data_path': 'artifact/data_ingestion/test_data'}}\n",
      "artifact/\n",
      "2025-04-28 18:51:58 - INFO: 1679058489 - Artifacts directory already exists at artifact/\n",
      "2025-04-28 18:51:58 - INFO: utils - Directory artifact/data_ingestion created.\n",
      "2025-04-28 18:51:58 - INFO: utils - Directory artifact/data_ingestion/raw_data created.\n",
      "2025-04-28 18:51:58 - INFO: utils - Directory artifact/data_ingestion/train_data created.\n",
      "2025-04-28 18:51:58 - INFO: utils - Directory artifact/data_ingestion/test_data created.\n",
      "2025-04-28 18:51:58 - INFO: 2716331685 - Downloading data from https://github.com/MainakRepositor/Datasets/blob/master/Titanic.csv to artifact\\data_ingestion\\Titanic.csv\n",
      "2025-04-28 18:52:13 - INFO: 2716331685 - Data downloaded to artifact\\data_ingestion\\Titanic.csv\n",
      "2025-04-28 18:52:13 - INFO: 2716331685 - Data moved to artifact\\data_ingestion\\raw_data\n"
     ]
    }
   ],
   "source": [
    "manager = ConfigurationManager()\n",
    "data_ingestion_config = manager.get_data_ingestion_config()\n",
    "data_ingestion = DataIngestion(config=data_ingestion_config)\n",
    "data_ingestion.download_data()\n",
    "data_ingestion.setup_data()"
   ]
  },
  {
   "cell_type": "code",
   "execution_count": 68,
   "id": "87f420f6",
   "metadata": {},
   "outputs": [],
   "source": [
    "from urllib.request import urlretrieve\n",
    "\n"
   ]
  },
  {
   "cell_type": "code",
   "execution_count": 70,
   "id": "40c2c6fe",
   "metadata": {},
   "outputs": [
    {
     "name": "stdout",
     "output_type": "stream",
     "text": [
      "CSV downloaded successfully to example.csv\n"
     ]
    }
   ],
   "source": [
    "# download a csv file from a github repo\n",
    "def download_csv_from_github(repo_url, file_path, save_path):\n",
    "    \"\"\"\n",
    "    Downloads a CSV file from a GitHub repository.\n",
    "\n",
    "    :param repo_url: URL of the GitHub repository (raw file URL)\n",
    "    :param file_path: Path to the CSV file in the repository\n",
    "    :param save_path: Local path to save the downloaded CSV\n",
    "    \"\"\"\n",
    "    response = requests.get(repo_url)\n",
    "    if response.status_code == 200:\n",
    "        with open(save_path, 'wb') as file:\n",
    "            file.write(response.content)\n",
    "        print(f\"CSV downloaded successfully to {save_path}\")\n",
    "    else:\n",
    "        print(f\"Failed to download CSV. Status code: {response.status_code}\")\n",
    "\n",
    "# Example usage\n",
    "repo_url = \"https://raw.githubusercontent.com/MainakRepositor/Datasets/refs/heads/master/Titanic.csv\"\n",
    "file_path = \"data/example.csv\"\n",
    "save_path = \"example.csv\"\n",
    "download_csv_from_github(repo_url, file_path, save_path)"
   ]
  },
  {
   "cell_type": "code",
   "execution_count": 4,
   "id": "f69c1d84",
   "metadata": {},
   "outputs": [
    {
     "ename": "ValueError",
     "evalue": "'index=False' is only valid when 'orient' is 'split' or 'tight'",
     "output_type": "error",
     "traceback": [
      "\u001b[31m---------------------------------------------------------------------------\u001b[39m",
      "\u001b[31mValueError\u001b[39m                                Traceback (most recent call last)",
      "\u001b[36mCell\u001b[39m\u001b[36m \u001b[39m\u001b[32mIn[4]\u001b[39m\u001b[32m, line 12\u001b[39m\n\u001b[32m      1\u001b[39m \u001b[38;5;28;01mimport\u001b[39;00m\u001b[38;5;250m \u001b[39m\u001b[34;01mpandas\u001b[39;00m\u001b[38;5;250m \u001b[39m\u001b[38;5;28;01mas\u001b[39;00m\u001b[38;5;250m \u001b[39m\u001b[34;01mpd\u001b[39;00m\n\u001b[32m      2\u001b[39m example = {\n\u001b[32m      3\u001b[39m         \u001b[33m'\u001b[39m\u001b[33mPclass\u001b[39m\u001b[33m'\u001b[39m:[\u001b[32m1\u001b[39m],\n\u001b[32m      4\u001b[39m         \u001b[33m'\u001b[39m\u001b[33mSex\u001b[39m\u001b[33m'\u001b[39m: [\u001b[33m'\u001b[39m\u001b[33mmale\u001b[39m\u001b[33m'\u001b[39m],\n\u001b[32m   (...)\u001b[39m\u001b[32m      9\u001b[39m         \u001b[33m'\u001b[39m\u001b[33mEmbarked\u001b[39m\u001b[33m'\u001b[39m:[\u001b[33m'\u001b[39m\u001b[33mQ\u001b[39m\u001b[33m'\u001b[39m]\n\u001b[32m     10\u001b[39m     }\n\u001b[32m---> \u001b[39m\u001b[32m12\u001b[39m \u001b[43mpd\u001b[49m\u001b[43m.\u001b[49m\u001b[43mDataFrame\u001b[49m\u001b[43m(\u001b[49m\u001b[43mexample\u001b[49m\u001b[43m)\u001b[49m\u001b[43m.\u001b[49m\u001b[43mto_dict\u001b[49m\u001b[43m(\u001b[49m\u001b[43mindex\u001b[49m\u001b[43m=\u001b[49m\u001b[38;5;28;43;01mFalse\u001b[39;49;00m\u001b[43m)\u001b[49m\n",
      "\u001b[36mFile \u001b[39m\u001b[32mc:\\Users\\ernes\\Documents\\ML Projects\\ds-project-test\\ds-project-test\\venv\\Lib\\site-packages\\pandas\\util\\_decorators.py:333\u001b[39m, in \u001b[36mdeprecate_nonkeyword_arguments.<locals>.decorate.<locals>.wrapper\u001b[39m\u001b[34m(*args, **kwargs)\u001b[39m\n\u001b[32m    327\u001b[39m \u001b[38;5;28;01mif\u001b[39;00m \u001b[38;5;28mlen\u001b[39m(args) > num_allow_args:\n\u001b[32m    328\u001b[39m     warnings.warn(\n\u001b[32m    329\u001b[39m         msg.format(arguments=_format_argument_list(allow_args)),\n\u001b[32m    330\u001b[39m         \u001b[38;5;167;01mFutureWarning\u001b[39;00m,\n\u001b[32m    331\u001b[39m         stacklevel=find_stack_level(),\n\u001b[32m    332\u001b[39m     )\n\u001b[32m--> \u001b[39m\u001b[32m333\u001b[39m \u001b[38;5;28;01mreturn\u001b[39;00m \u001b[43mfunc\u001b[49m\u001b[43m(\u001b[49m\u001b[43m*\u001b[49m\u001b[43margs\u001b[49m\u001b[43m,\u001b[49m\u001b[43m \u001b[49m\u001b[43m*\u001b[49m\u001b[43m*\u001b[49m\u001b[43mkwargs\u001b[49m\u001b[43m)\u001b[49m\n",
      "\u001b[36mFile \u001b[39m\u001b[32mc:\\Users\\ernes\\Documents\\ML Projects\\ds-project-test\\ds-project-test\\venv\\Lib\\site-packages\\pandas\\core\\frame.py:2178\u001b[39m, in \u001b[36mDataFrame.to_dict\u001b[39m\u001b[34m(self, orient, into, index)\u001b[39m\n\u001b[32m   2075\u001b[39m \u001b[38;5;250m\u001b[39m\u001b[33;03m\"\"\"\u001b[39;00m\n\u001b[32m   2076\u001b[39m \u001b[33;03mConvert the DataFrame to a dictionary.\u001b[39;00m\n\u001b[32m   2077\u001b[39m \n\u001b[32m   (...)\u001b[39m\u001b[32m   2174\u001b[39m \u001b[33;03m defaultdict(<class 'list'>, {'col1': 2, 'col2': 0.75})]\u001b[39;00m\n\u001b[32m   2175\u001b[39m \u001b[33;03m\"\"\"\u001b[39;00m\n\u001b[32m   2176\u001b[39m \u001b[38;5;28;01mfrom\u001b[39;00m\u001b[38;5;250m \u001b[39m\u001b[34;01mpandas\u001b[39;00m\u001b[34;01m.\u001b[39;00m\u001b[34;01mcore\u001b[39;00m\u001b[34;01m.\u001b[39;00m\u001b[34;01mmethods\u001b[39;00m\u001b[34;01m.\u001b[39;00m\u001b[34;01mto_dict\u001b[39;00m\u001b[38;5;250m \u001b[39m\u001b[38;5;28;01mimport\u001b[39;00m to_dict\n\u001b[32m-> \u001b[39m\u001b[32m2178\u001b[39m \u001b[38;5;28;01mreturn\u001b[39;00m \u001b[43mto_dict\u001b[49m\u001b[43m(\u001b[49m\u001b[38;5;28;43mself\u001b[39;49m\u001b[43m,\u001b[49m\u001b[43m \u001b[49m\u001b[43morient\u001b[49m\u001b[43m,\u001b[49m\u001b[43m \u001b[49m\u001b[43minto\u001b[49m\u001b[43m=\u001b[49m\u001b[43minto\u001b[49m\u001b[43m,\u001b[49m\u001b[43m \u001b[49m\u001b[43mindex\u001b[49m\u001b[43m=\u001b[49m\u001b[43mindex\u001b[49m\u001b[43m)\u001b[49m\n",
      "\u001b[36mFile \u001b[39m\u001b[32mc:\\Users\\ernes\\Documents\\ML Projects\\ds-project-test\\ds-project-test\\venv\\Lib\\site-packages\\pandas\\core\\methods\\to_dict.py:147\u001b[39m, in \u001b[36mto_dict\u001b[39m\u001b[34m(df, orient, into, index)\u001b[39m\n\u001b[32m    144\u001b[39m orient = orient.lower()  \u001b[38;5;66;03m# type: ignore[assignment]\u001b[39;00m\n\u001b[32m    146\u001b[39m \u001b[38;5;28;01mif\u001b[39;00m \u001b[38;5;129;01mnot\u001b[39;00m index \u001b[38;5;129;01mand\u001b[39;00m orient \u001b[38;5;129;01mnot\u001b[39;00m \u001b[38;5;129;01min\u001b[39;00m [\u001b[33m\"\u001b[39m\u001b[33msplit\u001b[39m\u001b[33m\"\u001b[39m, \u001b[33m\"\u001b[39m\u001b[33mtight\u001b[39m\u001b[33m\"\u001b[39m]:\n\u001b[32m--> \u001b[39m\u001b[32m147\u001b[39m     \u001b[38;5;28;01mraise\u001b[39;00m \u001b[38;5;167;01mValueError\u001b[39;00m(\n\u001b[32m    148\u001b[39m         \u001b[33m\"\u001b[39m\u001b[33m'\u001b[39m\u001b[33mindex=False\u001b[39m\u001b[33m'\u001b[39m\u001b[33m is only valid when \u001b[39m\u001b[33m'\u001b[39m\u001b[33morient\u001b[39m\u001b[33m'\u001b[39m\u001b[33m is \u001b[39m\u001b[33m'\u001b[39m\u001b[33msplit\u001b[39m\u001b[33m'\u001b[39m\u001b[33m or \u001b[39m\u001b[33m'\u001b[39m\u001b[33mtight\u001b[39m\u001b[33m'\u001b[39m\u001b[33m\"\u001b[39m\n\u001b[32m    149\u001b[39m     )\n\u001b[32m    151\u001b[39m \u001b[38;5;28;01mif\u001b[39;00m orient == \u001b[33m\"\u001b[39m\u001b[33mseries\u001b[39m\u001b[33m\"\u001b[39m:\n\u001b[32m    152\u001b[39m     \u001b[38;5;66;03m# GH46470 Return quickly if orient series to avoid creating dtype objects\u001b[39;00m\n\u001b[32m    153\u001b[39m     \u001b[38;5;28;01mreturn\u001b[39;00m into_c((k, v) \u001b[38;5;28;01mfor\u001b[39;00m k, v \u001b[38;5;129;01min\u001b[39;00m df.items())\n",
      "\u001b[31mValueError\u001b[39m: 'index=False' is only valid when 'orient' is 'split' or 'tight'"
     ]
    }
   ],
   "source": [
    "import pandas as pd\n",
    "example = {\n",
    "        'Pclass':[1],\n",
    "        'Sex': ['male'],\n",
    "        'Age': [20],\n",
    "        'SibSp':[0],\n",
    "        'Parch':[0],\n",
    "        'Fare':[7.25],\n",
    "        'Embarked':['Q']\n",
    "    }\n",
    "\n",
    "pd.DataFrame(example).to_dict(index=False)"
   ]
  },
  {
   "cell_type": "code",
   "execution_count": 3,
   "id": "bf71e700",
   "metadata": {},
   "outputs": [
    {
     "data": {
      "application/vnd.microsoft.datawrangler.viewer.v0+json": {
       "columns": [
        {
         "name": "index",
         "rawType": "int64",
         "type": "integer"
        },
        {
         "name": "PassengerId",
         "rawType": "int64",
         "type": "integer"
        },
        {
         "name": "Survived",
         "rawType": "int64",
         "type": "integer"
        },
        {
         "name": "Pclass",
         "rawType": "int64",
         "type": "integer"
        },
        {
         "name": "Name",
         "rawType": "object",
         "type": "string"
        },
        {
         "name": "Sex",
         "rawType": "object",
         "type": "string"
        },
        {
         "name": "Age",
         "rawType": "float64",
         "type": "float"
        },
        {
         "name": "SibSp",
         "rawType": "int64",
         "type": "integer"
        },
        {
         "name": "Parch",
         "rawType": "int64",
         "type": "integer"
        },
        {
         "name": "Ticket",
         "rawType": "object",
         "type": "string"
        },
        {
         "name": "Fare",
         "rawType": "float64",
         "type": "float"
        },
        {
         "name": "Cabin",
         "rawType": "object",
         "type": "unknown"
        },
        {
         "name": "Embarked",
         "rawType": "object",
         "type": "string"
        }
       ],
       "conversionMethod": "pd.DataFrame",
       "ref": "d494d1d1-8826-4611-9368-e47f66a16d2e",
       "rows": [
        [
         "0",
         "1",
         "0",
         "3",
         "Braund, Mr. Owen Harris",
         "male",
         "22.0",
         "1",
         "0",
         "A/5 21171",
         "7.25",
         null,
         "S"
        ],
        [
         "1",
         "2",
         "1",
         "1",
         "Cumings, Mrs. John Bradley (Florence Briggs Thayer)",
         "female",
         "38.0",
         "1",
         "0",
         "PC 17599",
         "71.2833",
         "C85",
         "C"
        ],
        [
         "2",
         "3",
         "1",
         "3",
         "Heikkinen, Miss. Laina",
         "female",
         "26.0",
         "0",
         "0",
         "STON/O2. 3101282",
         "7.925",
         null,
         "S"
        ],
        [
         "3",
         "4",
         "1",
         "1",
         "Futrelle, Mrs. Jacques Heath (Lily May Peel)",
         "female",
         "35.0",
         "1",
         "0",
         "113803",
         "53.1",
         "C123",
         "S"
        ],
        [
         "4",
         "5",
         "0",
         "3",
         "Allen, Mr. William Henry",
         "male",
         "35.0",
         "0",
         "0",
         "373450",
         "8.05",
         null,
         "S"
        ]
       ],
       "shape": {
        "columns": 12,
        "rows": 5
       }
      },
      "text/html": [
       "<div>\n",
       "<style scoped>\n",
       "    .dataframe tbody tr th:only-of-type {\n",
       "        vertical-align: middle;\n",
       "    }\n",
       "\n",
       "    .dataframe tbody tr th {\n",
       "        vertical-align: top;\n",
       "    }\n",
       "\n",
       "    .dataframe thead th {\n",
       "        text-align: right;\n",
       "    }\n",
       "</style>\n",
       "<table border=\"1\" class=\"dataframe\">\n",
       "  <thead>\n",
       "    <tr style=\"text-align: right;\">\n",
       "      <th></th>\n",
       "      <th>PassengerId</th>\n",
       "      <th>Survived</th>\n",
       "      <th>Pclass</th>\n",
       "      <th>Name</th>\n",
       "      <th>Sex</th>\n",
       "      <th>Age</th>\n",
       "      <th>SibSp</th>\n",
       "      <th>Parch</th>\n",
       "      <th>Ticket</th>\n",
       "      <th>Fare</th>\n",
       "      <th>Cabin</th>\n",
       "      <th>Embarked</th>\n",
       "    </tr>\n",
       "  </thead>\n",
       "  <tbody>\n",
       "    <tr>\n",
       "      <th>0</th>\n",
       "      <td>1</td>\n",
       "      <td>0</td>\n",
       "      <td>3</td>\n",
       "      <td>Braund, Mr. Owen Harris</td>\n",
       "      <td>male</td>\n",
       "      <td>22.0</td>\n",
       "      <td>1</td>\n",
       "      <td>0</td>\n",
       "      <td>A/5 21171</td>\n",
       "      <td>7.2500</td>\n",
       "      <td>NaN</td>\n",
       "      <td>S</td>\n",
       "    </tr>\n",
       "    <tr>\n",
       "      <th>1</th>\n",
       "      <td>2</td>\n",
       "      <td>1</td>\n",
       "      <td>1</td>\n",
       "      <td>Cumings, Mrs. John Bradley (Florence Briggs Th...</td>\n",
       "      <td>female</td>\n",
       "      <td>38.0</td>\n",
       "      <td>1</td>\n",
       "      <td>0</td>\n",
       "      <td>PC 17599</td>\n",
       "      <td>71.2833</td>\n",
       "      <td>C85</td>\n",
       "      <td>C</td>\n",
       "    </tr>\n",
       "    <tr>\n",
       "      <th>2</th>\n",
       "      <td>3</td>\n",
       "      <td>1</td>\n",
       "      <td>3</td>\n",
       "      <td>Heikkinen, Miss. Laina</td>\n",
       "      <td>female</td>\n",
       "      <td>26.0</td>\n",
       "      <td>0</td>\n",
       "      <td>0</td>\n",
       "      <td>STON/O2. 3101282</td>\n",
       "      <td>7.9250</td>\n",
       "      <td>NaN</td>\n",
       "      <td>S</td>\n",
       "    </tr>\n",
       "    <tr>\n",
       "      <th>3</th>\n",
       "      <td>4</td>\n",
       "      <td>1</td>\n",
       "      <td>1</td>\n",
       "      <td>Futrelle, Mrs. Jacques Heath (Lily May Peel)</td>\n",
       "      <td>female</td>\n",
       "      <td>35.0</td>\n",
       "      <td>1</td>\n",
       "      <td>0</td>\n",
       "      <td>113803</td>\n",
       "      <td>53.1000</td>\n",
       "      <td>C123</td>\n",
       "      <td>S</td>\n",
       "    </tr>\n",
       "    <tr>\n",
       "      <th>4</th>\n",
       "      <td>5</td>\n",
       "      <td>0</td>\n",
       "      <td>3</td>\n",
       "      <td>Allen, Mr. William Henry</td>\n",
       "      <td>male</td>\n",
       "      <td>35.0</td>\n",
       "      <td>0</td>\n",
       "      <td>0</td>\n",
       "      <td>373450</td>\n",
       "      <td>8.0500</td>\n",
       "      <td>NaN</td>\n",
       "      <td>S</td>\n",
       "    </tr>\n",
       "  </tbody>\n",
       "</table>\n",
       "</div>"
      ],
      "text/plain": [
       "   PassengerId  Survived  Pclass  \\\n",
       "0            1         0       3   \n",
       "1            2         1       1   \n",
       "2            3         1       3   \n",
       "3            4         1       1   \n",
       "4            5         0       3   \n",
       "\n",
       "                                                Name     Sex   Age  SibSp  \\\n",
       "0                            Braund, Mr. Owen Harris    male  22.0      1   \n",
       "1  Cumings, Mrs. John Bradley (Florence Briggs Th...  female  38.0      1   \n",
       "2                             Heikkinen, Miss. Laina  female  26.0      0   \n",
       "3       Futrelle, Mrs. Jacques Heath (Lily May Peel)  female  35.0      1   \n",
       "4                           Allen, Mr. William Henry    male  35.0      0   \n",
       "\n",
       "   Parch            Ticket     Fare Cabin Embarked  \n",
       "0      0         A/5 21171   7.2500   NaN        S  \n",
       "1      0          PC 17599  71.2833   C85        C  \n",
       "2      0  STON/O2. 3101282   7.9250   NaN        S  \n",
       "3      0            113803  53.1000  C123        S  \n",
       "4      0            373450   8.0500   NaN        S  "
      ]
     },
     "execution_count": 3,
     "metadata": {},
     "output_type": "execute_result"
    }
   ],
   "source": [
    "import pandas as pd\n",
    "\n",
    "\n",
    "df=pd.read_csv(r'C:\\Users\\ernes\\Documents\\ML Projects\\ds-project-test\\ds-project-test\\artifact\\data_ingestion\\raw_data\\Titanic.csv')\n",
    "df.head()"
   ]
  },
  {
   "cell_type": "code",
   "execution_count": 7,
   "id": "fd1eb76b",
   "metadata": {},
   "outputs": [
    {
     "name": "stdout",
     "output_type": "stream",
     "text": [
      "Sex\n",
      "['male' 'female']\n",
      "Cabin\n",
      "[nan 'C85' 'C123' 'E46' 'G6' 'C103' 'D56' 'A6' 'C23 C25 C27' 'B78' 'D33'\n",
      " 'B30' 'C52' 'B28' 'C83' 'F33' 'F G73' 'E31' 'A5' 'D10 D12' 'D26' 'C110'\n",
      " 'B58 B60' 'E101' 'F E69' 'D47' 'B86' 'F2' 'C2' 'E33' 'B19' 'A7' 'C49'\n",
      " 'F4' 'A32' 'B4' 'B80' 'A31' 'D36' 'D15' 'C93' 'C78' 'D35' 'C87' 'B77'\n",
      " 'E67' 'B94' 'C125' 'C99' 'C118' 'D7' 'A19' 'B49' 'D' 'C22 C26' 'C106'\n",
      " 'C65' 'E36' 'C54' 'B57 B59 B63 B66' 'C7' 'E34' 'C32' 'B18' 'C124' 'C91'\n",
      " 'E40' 'T' 'C128' 'D37' 'B35' 'E50' 'C82' 'B96 B98' 'E10' 'E44' 'A34'\n",
      " 'C104' 'C111' 'C92' 'E38' 'D21' 'E12' 'E63' 'A14' 'B37' 'C30' 'D20' 'B79'\n",
      " 'E25' 'D46' 'B73' 'C95' 'B38' 'B39' 'B22' 'C86' 'C70' 'A16' 'C101' 'C68'\n",
      " 'A10' 'E68' 'B41' 'A20' 'D19' 'D50' 'D9' 'A23' 'B50' 'A26' 'D48' 'E58'\n",
      " 'C126' 'B71' 'B51 B53 B55' 'D49' 'B5' 'B20' 'F G63' 'C62 C64' 'E24' 'C90'\n",
      " 'C45' 'E8' 'B101' 'D45' 'C46' 'D30' 'E121' 'D11' 'E77' 'F38' 'B3' 'D6'\n",
      " 'B82 B84' 'D17' 'A36' 'B102' 'B69' 'E49' 'C47' 'D28' 'E17' 'A24' 'C50'\n",
      " 'B42' 'C148']\n",
      "Embarked\n",
      "['S' 'C' 'Q' nan]\n"
     ]
    }
   ],
   "source": [
    "for col in df.columns:\n",
    "    if( df[col].dtype == 'object') and (col not in ['Name', 'Ticket']):\n",
    "        print(col)\n",
    "        print(df[col].unique())"
   ]
  },
  {
   "cell_type": "code",
   "execution_count": 9,
   "id": "3c17be27",
   "metadata": {},
   "outputs": [
    {
     "data": {
      "text/plain": [
       "Index(['PassengerId', 'Survived', 'Pclass', 'Name', 'Sex', 'Age', 'SibSp',\n",
       "       'Parch', 'Ticket', 'Fare', 'Cabin', 'Embarked'],\n",
       "      dtype='object')"
      ]
     },
     "execution_count": 9,
     "metadata": {},
     "output_type": "execute_result"
    }
   ],
   "source": [
    "df.columns"
   ]
  },
  {
   "cell_type": "code",
   "execution_count": 12,
   "id": "9bb87a0f",
   "metadata": {},
   "outputs": [
    {
     "data": {
      "text/plain": [
       "(np.float64(512.3292), np.float64(0.0))"
      ]
     },
     "execution_count": 12,
     "metadata": {},
     "output_type": "execute_result"
    }
   ],
   "source": [
    "df['Fare'].max(), df['Fare'].min()"
   ]
  },
  {
   "cell_type": "code",
   "execution_count": 13,
   "id": "3077d897",
   "metadata": {},
   "outputs": [
    {
     "data": {
      "text/plain": [
       "array([3, 1, 2])"
      ]
     },
     "execution_count": 13,
     "metadata": {},
     "output_type": "execute_result"
    }
   ],
   "source": [
    "df['Pclass'].unique()"
   ]
  },
  {
   "cell_type": "code",
   "execution_count": 14,
   "id": "ed751e92",
   "metadata": {},
   "outputs": [
    {
     "data": {
      "text/plain": [
       "array([1, 0, 3, 4, 2, 5, 8])"
      ]
     },
     "execution_count": 14,
     "metadata": {},
     "output_type": "execute_result"
    }
   ],
   "source": [
    "df['SibSp'].unique()"
   ]
  },
  {
   "cell_type": "code",
   "execution_count": 15,
   "id": "674ba7be",
   "metadata": {},
   "outputs": [
    {
     "data": {
      "text/plain": [
       "array([0, 1, 2, 5, 3, 4, 6])"
      ]
     },
     "execution_count": 15,
     "metadata": {},
     "output_type": "execute_result"
    }
   ],
   "source": [
    "df['Parch'].unique()"
   ]
  },
  {
   "cell_type": "code",
   "execution_count": 16,
   "id": "09639d07",
   "metadata": {},
   "outputs": [
    {
     "name": "stdout",
     "output_type": "stream",
     "text": [
      "c:\\Users\\ernes\\Documents\\ML Projects\\ds-project-test\\ds-project-test\n"
     ]
    }
   ],
   "source": [
    "%cd .."
   ]
  },
  {
   "cell_type": "code",
   "execution_count": 17,
   "id": "fa252391",
   "metadata": {},
   "outputs": [
    {
     "name": "stdout",
     "output_type": "stream",
     "text": [
      "2025-05-12 19:35:07 - INFO: __init__ - Logging setup complete.\n",
      "2025-05-12 19:35:08 - INFO: utils - YAML file config\\config.yaml loaded successfully.\n",
      "2025-05-12 19:35:22 - INFO: utils - Binary file artifact\\data_transformation\\artifacts\\preprocessing.pkl loaded successfully.\n",
      "2025-05-12 19:35:22 - INFO: utils - Binary file artifact\\model_validator\\best_model\\model.pkl loaded successfully.\n",
      "2025-05-12 19:35:22 - INFO: utils - YAML file parameters.yaml loaded successfully.\n",
      "{'transform_data': {'RANDOM_SEED': 86, 'TEST_SIZE': 0.2, 'DROPPED_COLUMNS': ['PassengerId', 'Name', 'Ticket', 'Cabin']}, 'training': {'TARGET_COLUMN': 'Survived', 'MODELS': {'LOGISTIC_REGRESSION': {'penalty': 'l2', 'C': 0.8, 'max_iter': 100, 'random_state': 86}, 'GRADIENT_BOOSTING': {'loss': 'log_loss', 'learning_rate': 0.1, 'n_estimators': 100, 'max_depth': 3, 'random_state': 86}, 'RANDOM_FOREST': {'n_estimators': 250, 'max_depth': 15, 'random_state': 86}}}, 'validator': {'threshold': 0.1}}\n",
      "              LOGISTIC_REGRESSION GRADIENT_BOOSTING  RANDOM_FOREST\n",
      "penalty                        l2               NaN            NaN\n",
      "C                             1.0               NaN            NaN\n",
      "max_iter                      100               NaN            NaN\n",
      "random_state                   86                86           86.0\n",
      "loss                          NaN          log_loss            NaN\n",
      "learning_rate                 NaN               0.1            NaN\n",
      "n_estimators                  NaN               100          250.0\n",
      "max_depth                     NaN                 3           15.0\n"
     ]
    },
    {
     "name": "stderr",
     "output_type": "stream",
     "text": [
      "C:\\Users\\ernes\\AppData\\Local\\Temp\\ipykernel_3852\\3362545915.py:18: FutureWarning: ChainedAssignmentError: behaviour will change in pandas 3.0!\n",
      "You are setting values through chained assignment. Currently this works in certain cases, but when using Copy-on-Write (which will become the default behaviour in pandas 3.0) this will never work to update the original DataFrame or Series, because the intermediate object on which we are setting values will behave as a copy.\n",
      "A typical example is when you are setting values in a column of a DataFrame, like:\n",
      "\n",
      "df[\"col\"][row_indexer] = value\n",
      "\n",
      "Use `df.loc[row_indexer, \"col\"] = values` instead, to perform the assignment in a single step and ensure this keeps updating the original `df`.\n",
      "\n",
      "See the caveats in the documentation: https://pandas.pydata.org/pandas-docs/stable/user_guide/indexing.html#returning-a-view-versus-a-copy\n",
      "\n",
      "  params_models['LOGISTIC_REGRESSION']['C'] = 1.0\n",
      "C:\\Users\\ernes\\AppData\\Local\\Temp\\ipykernel_3852\\3362545915.py:18: SettingWithCopyWarning: \n",
      "A value is trying to be set on a copy of a slice from a DataFrame\n",
      "\n",
      "See the caveats in the documentation: https://pandas.pydata.org/pandas-docs/stable/user_guide/indexing.html#returning-a-view-versus-a-copy\n",
      "  params_models['LOGISTIC_REGRESSION']['C'] = 1.0\n"
     ]
    }
   ],
   "source": [
    "import os\n",
    "import time\n",
    "import pandas as pd\n",
    "from pathlib import Path\n",
    "from serving import Serving\n",
    "from src.ds_project.utils.utils import load_json, update_yaml, read_yaml\n",
    "from src.ds_project.constants import PARAMS_FILE_PATH\n",
    "\n",
    "\n",
    "def do_something_slow():\n",
    "    time.sleep(5)\n",
    "\n",
    "\n",
    "serving=Serving()\n",
    "params_project=read_yaml(PARAMS_FILE_PATH)\n",
    "params_models=pd.DataFrame(params_project['training']['MODELS'])\n",
    "prediction=None\n",
    "params_models['LOGISTIC_REGRESSION']['C'] = 1.0\n",
    "print(params_project)\n",
    "print(params_models)"
   ]
  },
  {
   "cell_type": "code",
   "execution_count": 19,
   "id": "05ca6c1f",
   "metadata": {},
   "outputs": [
    {
     "data": {
      "application/vnd.microsoft.datawrangler.viewer.v0+json": {
       "columns": [
        {
         "name": "index",
         "rawType": "object",
         "type": "string"
        },
        {
         "name": "LOGISTIC_REGRESSION",
         "rawType": "object",
         "type": "unknown"
        },
        {
         "name": "GRADIENT_BOOSTING",
         "rawType": "object",
         "type": "unknown"
        },
        {
         "name": "RANDOM_FOREST",
         "rawType": "float64",
         "type": "float"
        }
       ],
       "conversionMethod": "pd.DataFrame",
       "ref": "40fe2393-a188-48e9-8ebb-79a965b9c362",
       "rows": [
        [
         "penalty",
         "l2",
         null,
         null
        ],
        [
         "C",
         "1.0",
         null,
         null
        ],
        [
         "max_iter",
         "100",
         null,
         null
        ],
        [
         "random_state",
         "86",
         "86",
         "86.0"
        ],
        [
         "loss",
         null,
         "log_loss",
         null
        ],
        [
         "learning_rate",
         null,
         "0.1",
         null
        ],
        [
         "n_estimators",
         null,
         "100",
         "250.0"
        ],
        [
         "max_depth",
         null,
         "3",
         "15.0"
        ]
       ],
       "shape": {
        "columns": 3,
        "rows": 8
       }
      },
      "text/html": [
       "<div>\n",
       "<style scoped>\n",
       "    .dataframe tbody tr th:only-of-type {\n",
       "        vertical-align: middle;\n",
       "    }\n",
       "\n",
       "    .dataframe tbody tr th {\n",
       "        vertical-align: top;\n",
       "    }\n",
       "\n",
       "    .dataframe thead th {\n",
       "        text-align: right;\n",
       "    }\n",
       "</style>\n",
       "<table border=\"1\" class=\"dataframe\">\n",
       "  <thead>\n",
       "    <tr style=\"text-align: right;\">\n",
       "      <th></th>\n",
       "      <th>LOGISTIC_REGRESSION</th>\n",
       "      <th>GRADIENT_BOOSTING</th>\n",
       "      <th>RANDOM_FOREST</th>\n",
       "    </tr>\n",
       "  </thead>\n",
       "  <tbody>\n",
       "    <tr>\n",
       "      <th>penalty</th>\n",
       "      <td>l2</td>\n",
       "      <td>NaN</td>\n",
       "      <td>NaN</td>\n",
       "    </tr>\n",
       "    <tr>\n",
       "      <th>C</th>\n",
       "      <td>1.0</td>\n",
       "      <td>NaN</td>\n",
       "      <td>NaN</td>\n",
       "    </tr>\n",
       "    <tr>\n",
       "      <th>max_iter</th>\n",
       "      <td>100</td>\n",
       "      <td>NaN</td>\n",
       "      <td>NaN</td>\n",
       "    </tr>\n",
       "    <tr>\n",
       "      <th>random_state</th>\n",
       "      <td>86</td>\n",
       "      <td>86</td>\n",
       "      <td>86.0</td>\n",
       "    </tr>\n",
       "    <tr>\n",
       "      <th>loss</th>\n",
       "      <td>NaN</td>\n",
       "      <td>log_loss</td>\n",
       "      <td>NaN</td>\n",
       "    </tr>\n",
       "    <tr>\n",
       "      <th>learning_rate</th>\n",
       "      <td>NaN</td>\n",
       "      <td>0.1</td>\n",
       "      <td>NaN</td>\n",
       "    </tr>\n",
       "    <tr>\n",
       "      <th>n_estimators</th>\n",
       "      <td>NaN</td>\n",
       "      <td>100</td>\n",
       "      <td>250.0</td>\n",
       "    </tr>\n",
       "    <tr>\n",
       "      <th>max_depth</th>\n",
       "      <td>NaN</td>\n",
       "      <td>3</td>\n",
       "      <td>15.0</td>\n",
       "    </tr>\n",
       "  </tbody>\n",
       "</table>\n",
       "</div>"
      ],
      "text/plain": [
       "              LOGISTIC_REGRESSION GRADIENT_BOOSTING  RANDOM_FOREST\n",
       "penalty                        l2               NaN            NaN\n",
       "C                             1.0               NaN            NaN\n",
       "max_iter                      100               NaN            NaN\n",
       "random_state                   86                86           86.0\n",
       "loss                          NaN          log_loss            NaN\n",
       "learning_rate                 NaN               0.1            NaN\n",
       "n_estimators                  NaN               100          250.0\n",
       "max_depth                     NaN                 3           15.0"
      ]
     },
     "execution_count": 19,
     "metadata": {},
     "output_type": "execute_result"
    }
   ],
   "source": [
    "params_models"
   ]
  },
  {
   "cell_type": "code",
   "execution_count": 20,
   "id": "dbea250c",
   "metadata": {},
   "outputs": [
    {
     "data": {
      "text/plain": [
       "pandas.core.frame.DataFrame"
      ]
     },
     "execution_count": 20,
     "metadata": {},
     "output_type": "execute_result"
    }
   ],
   "source": [
    "type(params_models)"
   ]
  },
  {
   "cell_type": "code",
   "execution_count": null,
   "id": "60c3de6c",
   "metadata": {},
   "outputs": [
    {
     "data": {
      "text/plain": [
       "WindowsPath('parameters.yaml')"
      ]
     },
     "execution_count": 21,
     "metadata": {},
     "output_type": "execute_result"
    }
   ],
   "source": [
    "from src.ds_project.constants import CONFIG_FILE_PATH\n"
   ]
  },
  {
   "cell_type": "code",
   "execution_count": null,
   "id": "6879cdcc",
   "metadata": {},
   "outputs": [],
   "source": [
    "'5'.isnumeric()\n",
    "\n",
    "p = {\n",
    "    'norm':'l2',\n",
    "    'c':'5.0',\n",
    "    's':'5'\n",
    "}\n",
    "\n",
    "\n",
    "def change_dict_dtypes(dict):\n",
    "    new_dict={}\n",
    "    for k,v in dict.items():\n",
    "        if isinstance(v, str):\n",
    "            if v.isnumeric():\n",
    "                v = int(v)\n",
    "            else:\n",
    "                try:\n",
    "                    v=float(v)\n",
    "                except:\n",
    "                    pass\n",
    "        new_dict[k]=v\n",
    "\n",
    "    return new_dict\n"
   ]
  },
  {
   "cell_type": "code",
   "execution_count": 33,
   "id": "13180c4d",
   "metadata": {},
   "outputs": [
    {
     "data": {
      "text/plain": [
       "{'norm': 'l2', 'c': 5.0, 's': 5}"
      ]
     },
     "execution_count": 33,
     "metadata": {},
     "output_type": "execute_result"
    }
   ],
   "source": [
    "change_dict_dtypes(p)"
   ]
  },
  {
   "cell_type": "code",
   "execution_count": 24,
   "id": "9bfc9b26",
   "metadata": {},
   "outputs": [
    {
     "data": {
      "text/plain": [
       "True"
      ]
     },
     "execution_count": 24,
     "metadata": {},
     "output_type": "execute_result"
    }
   ],
   "source": [
    "isinstance('s', str)"
   ]
  },
  {
   "cell_type": "code",
   "execution_count": 23,
   "id": "a9cdb673",
   "metadata": {},
   "outputs": [
    {
     "name": "stderr",
     "output_type": "stream",
     "text": [
      "<>:1: SyntaxWarning: invalid decimal literal\n",
      "<>:1: SyntaxWarning: invalid decimal literal\n",
      "C:\\Users\\ernes\\AppData\\Local\\Temp\\ipykernel_3852\\3025934620.py:1: SyntaxWarning: invalid decimal literal\n",
      "  1.isnumeric()\n"
     ]
    },
    {
     "ename": "SyntaxError",
     "evalue": "invalid syntax (3025934620.py, line 1)",
     "output_type": "error",
     "traceback": [
      "  \u001b[36mCell\u001b[39m\u001b[36m \u001b[39m\u001b[32mIn[23]\u001b[39m\u001b[32m, line 1\u001b[39m\n\u001b[31m    \u001b[39m\u001b[31m1.isnumeric()\u001b[39m\n      ^\n\u001b[31mSyntaxError\u001b[39m\u001b[31m:\u001b[39m invalid syntax\n"
     ]
    }
   ],
   "source": [
    "1.isnumeric()"
   ]
  }
 ],
 "metadata": {
  "kernelspec": {
   "display_name": "Python 3",
   "language": "python",
   "name": "python3"
  },
  "language_info": {
   "codemirror_mode": {
    "name": "ipython",
    "version": 3
   },
   "file_extension": ".py",
   "mimetype": "text/x-python",
   "name": "python",
   "nbconvert_exporter": "python",
   "pygments_lexer": "ipython3",
   "version": "3.12.9"
  }
 },
 "nbformat": 4,
 "nbformat_minor": 5
}
