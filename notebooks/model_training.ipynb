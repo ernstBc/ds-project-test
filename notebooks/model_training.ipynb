{
 "cells": [
  {
   "cell_type": "code",
   "execution_count": 2,
   "id": "18d3f239",
   "metadata": {},
   "outputs": [],
   "source": [
    "import os\n"
   ]
  },
  {
   "cell_type": "code",
   "execution_count": 3,
   "id": "2854d6d8",
   "metadata": {},
   "outputs": [
    {
     "name": "stdout",
     "output_type": "stream",
     "text": [
      "c:\\Users\\ernes\\Documents\\ML Projects\\ds-project-test\\ds-project-test\n"
     ]
    }
   ],
   "source": [
    "%cd .."
   ]
  },
  {
   "cell_type": "code",
   "execution_count": 78,
   "id": "2aac3655",
   "metadata": {},
   "outputs": [],
   "source": [
    "from dataclasses import dataclass\n",
    "from pathlib import Path\n",
    "\n",
    "\n",
    "@dataclass\n",
    "class ModelTrainingConfig:\n",
    "    model_name: str\n",
    "    model_type: str\n",
    "    model_dir: Path\n",
    "    training_data_path: Path\n",
    "    test_data_path: Path\n",
    "    params: dict"
   ]
  },
  {
   "cell_type": "code",
   "execution_count": 86,
   "id": "d6ae2ed4",
   "metadata": {},
   "outputs": [],
   "source": [
    "from src.ds_project.utils.utils import read_yaml, create_directories\n",
    "from src.ds_project.constants import CONFIG_FILE_PATH, PARAMS_FILE_PATH\n",
    "from datetime import datetime\n",
    "\n",
    "MODEL_TYPE = \"RANDOM_FOREST\" # Change this to the desired model type\n",
    "\n",
    "class ModelTrainingManager:\n",
    "    def __init__(self, \n",
    "                 config_path: str=CONFIG_FILE_PATH, \n",
    "                 params_file_path: str = PARAMS_FILE_PATH,\n",
    "                 model_type: str = MODEL_TYPE):\n",
    "\n",
    "        self.config = read_yaml(config_path)\n",
    "        self.params = read_yaml(params_file_path)\n",
    "        self.model_type = model_type\n",
    "\n",
    "    def get_model_training_config(self) -> ModelTrainingConfig:\n",
    "\n",
    "        config= ModelTrainingConfig(\n",
    "            model_name=datetime.now().strftime(\"%Y-%m-%d-%H-%M-%S\"),\n",
    "            model_type=self.model_type,\n",
    "            model_dir=Path(self.config['model_trainer']['directory']),\n",
    "            training_data_path=Path(self.config['model_trainer']['training_csv_dir']),\n",
    "            test_data_path=Path(self.config['model_trainer']['testing_csv_dir']),\n",
    "            params=self.params\n",
    "        )\n",
    "\n",
    "        create_directories([self.config['model_trainer']['directory']])\n",
    "\n",
    "        return config"
   ]
  },
  {
   "cell_type": "code",
   "execution_count": 108,
   "id": "2e39140c",
   "metadata": {},
   "outputs": [],
   "source": [
    "from src.ds_project import logger\n",
    "from sklearn.linear_model import LogisticRegression\n",
    "from sklearn.ensemble import (RandomForestClassifier,\n",
    "                            GradientBoostingClassifier)\n",
    "\n",
    "\n",
    "class ModelsConfig:\n",
    "    def __init__(self, config: ModelTrainingConfig):\n",
    "        \"\"\"\n",
    "        Initialize the ModelsConfig with the model training configuration.\n",
    "        :param config: ModelTrainingConfig object containing model training parameters.\n",
    "        :param model_type: Type of the model to be trained \n",
    "            (supported:\n",
    "                'Logistic_Regression', \n",
    "                'Random_Forest',\n",
    "                'Gradient_Boosting').\n",
    "        \"\"\"\n",
    "        self.config = config\n",
    "\n",
    "    def get_model(self):\n",
    "        try:\n",
    "            model_type = self.config.model_type\n",
    "            params = self.config.params.training.MODELS\n",
    "\n",
    "            if model_type == 'Logistic_Regression' or model_type == 'LogisticRegression'.upper():\n",
    "                model = {'Logistic_Regression': LogisticRegression(**params['LOGISTIC_REGRESSION'])}\n",
    "            elif model_type == 'Random_Forest' or model_type == 'Random_Forest'.upper():\n",
    "                model = {'Random_Forest': RandomForestClassifier(**params['RANDOM_FOREST'])}\n",
    "            elif model_type == 'Gradient_Boosting' or model_type == 'Gradient_Boosting'.upper():\n",
    "                model = {'Gradient_Boosting': GradientBoostingClassifier(**params['GRADIENT_BOOSTING'])}\n",
    "            elif model_type =='all' or model_type == 'ALL':\n",
    "                model = {\n",
    "                    'Logistic_Regression': LogisticRegression(**params['LOGISTIC_REGRESSION']),\n",
    "                    'Random_Forest': RandomForestClassifier(**params['RANDOM_FOREST']),\n",
    "                    'Gradient_Boosting': GradientBoostingClassifier(**params['GRADIENT_BOOSTING'])\n",
    "                }\n",
    "            else:\n",
    "                raise ValueError(f\"Model type '{model_type}' is not supported. \"\n",
    "                                \"Please choose from 'Logistic_Regression', 'Random_Forest', or 'Gradient_Boosting'.\")\n",
    "        except KeyError as e:\n",
    "            logger.error(f\"Key error: {e}. Please check the configuration file.\")\n",
    "            raise e\n",
    "        \n",
    "        return model\n",
    "        "
   ]
  },
  {
   "cell_type": "code",
   "execution_count": null,
   "id": "63fb195c",
   "metadata": {},
   "outputs": [],
   "source": [
    "import pandas as pd\n",
    "import mlflow\n",
    "from mlflow import log_params, log_metrics, log_text\n",
    "from src.ds_project import logger\n",
    "from sklearn.metrics import (accuracy_score, \n",
    "                             f1_score, \n",
    "                             precision_score, \n",
    "                             recall_score, \n",
    "                             confusion_matrix, \n",
    "                             classification_report\n",
    "                             )\n",
    "\n",
    "class ModelTrainer:\n",
    "    def __init__(self, config: ModelTrainingConfig):\n",
    "        self.config = config\n",
    "\n",
    "    def train_model(self):\n",
    "\n",
    "        try:\n",
    "            # load model usig ModelsConfig class\n",
    "            model = ModelsConfig(self.config).get_model()\n",
    "\n",
    "            # load transformed data\n",
    "            training_data = pd.read_csv(self.config.training_data_path)\n",
    "            test_data = pd.read_csv(self.config.test_data_path)\n",
    "\n",
    "            # train model\n",
    "            # get target column\n",
    "            target_column = self.config.params.training.TARGET_COLUMN\n",
    "            if target_column not in training_data.columns:\n",
    "                raise ValueError(f\"Target column '{target_column}' not found in training data.\")\n",
    "            \n",
    "            X_train = training_data.drop(columns=[target_column])\n",
    "            y_train = training_data[target_column]\n",
    "            X_test = test_data.drop(columns=[target_column])\n",
    "            y_test = test_data[target_column]\n",
    "\n",
    "            # fit the model and register it with mlflow\n",
    "            for model_name, model_instance in model.items():\n",
    "                with mlflow.start_run() as run:\n",
    "                    logger.info(f\"Training {model_name}...\")\n",
    "                    model_instance.fit(X_train, y_train)\n",
    "\n",
    "                    logger.info(f\"Model {model_name} trained successfully.\")\n",
    "\n",
    "\n",
    "                    metrics = {\n",
    "                        \"accuracy\": accuracy_score(y_test, model_instance.predict(X_test)),\n",
    "                        \"f1_score\": f1_score(y_test, model_instance.predict(X_test), average='weighted'),\n",
    "                        \"precision\": precision_score(y_test, model_instance.predict(X_test), average='weighted'),\n",
    "                        \"recall\": recall_score(y_test, model_instance.predict(X_test), average='weighted')\n",
    "                    }\n",
    "                    report = classification_report(y_test, model_instance.predict(X_test), output_dict=True)\n",
    "                    cm = confusion_matrix(y_test, model_instance.predict(X_test))\n",
    "\n",
    "\n",
    "                    # Log parameters and metrics\n",
    "                    log_params(self.config.params.training.MODELS[model_name.upper()])\n",
    "                    log_params({\"model_name\": model_name})\n",
    "                    log_metrics(metrics)\n",
    "                    log_text(str(report), \"classification_report.txt\")\n",
    "                    log_text(str(cm), \"confusion_matrix.txt\")\n",
    "\n",
    "                    # Log the model\n",
    "                    mlflow.sklearn.save_model(model_instance, \n",
    "                                              os.path.join(self.config.model_dir, self.config.model_name)\n",
    "                                              )\n",
    "\n",
    "\n",
    "        except Exception as e:\n",
    "            logger.error(f\"Error in training model: {e}\")\n",
    "            raise e"
   ]
  },
  {
   "cell_type": "code",
   "execution_count": 113,
   "id": "9b44addb",
   "metadata": {},
   "outputs": [
    {
     "name": "stdout",
     "output_type": "stream",
     "text": [
      "2025-05-05 17:59:44 - INFO: utils - YAML file config\\config.yaml loaded successfully.\n",
      "2025-05-05 17:59:44 - INFO: utils - YAML file parameters.yaml loaded successfully.\n",
      "2025-05-05 17:59:44 - INFO: utils - Directory artifact/model_trainer created.\n"
     ]
    }
   ],
   "source": [
    "from src.ds_project.config.config import CONFIG_FILE_PATH, PARAMS_FILE_PATH\n",
    "\n",
    "\n",
    "MODEL_TYPE=\"RANDOM_FOREST\" # Change this to the desired model type\n",
    "\n",
    "config = ModelTrainingManager(CONFIG_FILE_PATH, \n",
    "                              PARAMS_FILE_PATH,\n",
    "                              MODEL_TYPE).get_model_training_config()\n",
    "model= ModelTrainer(config)"
   ]
  },
  {
   "cell_type": "code",
   "execution_count": 114,
   "id": "2fe4ca2d",
   "metadata": {},
   "outputs": [
    {
     "name": "stdout",
     "output_type": "stream",
     "text": [
      "2025-05-05 17:59:45 - INFO: 1080906682 - Training Random_Forest...\n",
      "2025-05-05 17:59:45 - INFO: 1080906682 - Model Random_Forest trained successfully.\n"
     ]
    }
   ],
   "source": [
    "model.train_model()"
   ]
  },
  {
   "cell_type": "code",
   "execution_count": null,
   "id": "48ab7112",
   "metadata": {},
   "outputs": [],
   "source": []
  },
  {
   "cell_type": "code",
   "execution_count": null,
   "id": "09a2d592",
   "metadata": {},
   "outputs": [],
   "source": [
    "from mlflow import log"
   ]
  }
 ],
 "metadata": {
  "kernelspec": {
   "display_name": "Python 3",
   "language": "python",
   "name": "python3"
  },
  "language_info": {
   "codemirror_mode": {
    "name": "ipython",
    "version": 3
   },
   "file_extension": ".py",
   "mimetype": "text/x-python",
   "name": "python",
   "nbconvert_exporter": "python",
   "pygments_lexer": "ipython3",
   "version": "3.12.9"
  }
 },
 "nbformat": 4,
 "nbformat_minor": 5
}
